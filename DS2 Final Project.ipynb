{
 "cells": [
  {
   "cell_type": "markdown",
   "metadata": {
    "toc": true
   },
   "source": [
    "<h1>Table of Contents<span class=\"tocSkip\"></span></h1>\n",
    "<div class=\"toc\"><ul class=\"toc-item\"><li><span><a href=\"#Data-Cleaning\" data-toc-modified-id=\"Data-Cleaning-1\"><span class=\"toc-item-num\">1&nbsp;&nbsp;</span>Data Cleaning</a></span></li><li><span><a href=\"#Train/Test-Split\" data-toc-modified-id=\"Train/Test-Split-2\"><span class=\"toc-item-num\">2&nbsp;&nbsp;</span>Train/Test Split</a></span></li><li><span><a href=\"#Create-Inputs\" data-toc-modified-id=\"Create-Inputs-3\"><span class=\"toc-item-num\">3&nbsp;&nbsp;</span>Create Inputs</a></span></li><li><span><a href=\"#Create-Y-Variables\" data-toc-modified-id=\"Create-Y-Variables-4\"><span class=\"toc-item-num\">4&nbsp;&nbsp;</span>Create Y Variables</a></span></li><li><span><a href=\"#Fit-Model\" data-toc-modified-id=\"Fit-Model-5\"><span class=\"toc-item-num\">5&nbsp;&nbsp;</span>Fit Model</a></span></li><li><span><a href=\"#Model-Summaries\" data-toc-modified-id=\"Model-Summaries-6\"><span class=\"toc-item-num\">6&nbsp;&nbsp;</span>Model Summaries</a></span></li></ul></div>"
   ]
  },
  {
   "cell_type": "code",
   "execution_count": 109,
   "metadata": {},
   "outputs": [],
   "source": [
    "import pandas as pd\n",
    "import numpy as np\n",
    "import warnings\n",
    "warnings.filterwarnings('ignore')\n",
    "import os\n",
    "import matplotlib.pyplot as plt\n",
    "from sklearn import preprocessing\n",
    "from sklearn.preprocessing import OneHotEncoder\n",
    "from sklearn.preprocessing import MinMaxScaler\n",
    "from sklearn.utils import resample\n",
    "import keras_preprocessing as k\n",
    "import keras.layers as kl\n",
    "import keras.optimizers as ko\n",
    "import keras.callbacks as kc\n",
    "import keras.backend as K\n",
    "import keras.initializers as ki\n",
    "from keras.utils import Sequence\n",
    "from keras.models import Model\n",
    "from keras.models import Sequential"
   ]
  },
  {
   "cell_type": "code",
   "execution_count": 2,
   "metadata": {},
   "outputs": [],
   "source": [
    "df_log = pd.read_csv(\"/Users/aescot2/Documents/SPRING 2020/Data Science 2/Project/Data/data 2/training_set/log_mini.csv\")\n",
    "\n",
    "df_track = pd.read_csv(\"/Users/aescot2/Documents/SPRING 2020/Data Science 2/Project/Data/data 2/track_features/tf_mini.csv\")"
   ]
  },
  {
   "cell_type": "markdown",
   "metadata": {},
   "source": [
    "# Data Cleaning"
   ]
  },
  {
   "cell_type": "code",
   "execution_count": 20,
   "metadata": {
    "cell_style": "split",
    "scrolled": false
   },
   "outputs": [
    {
     "data": {
      "text/plain": [
       "(167880, 21)"
      ]
     },
     "execution_count": 20,
     "metadata": {},
     "output_type": "execute_result"
    }
   ],
   "source": [
    "df_log.shape"
   ]
  },
  {
   "cell_type": "code",
   "execution_count": 21,
   "metadata": {
    "cell_style": "split",
    "scrolled": false
   },
   "outputs": [
    {
     "data": {
      "text/plain": [
       "(50704, 30)"
      ]
     },
     "execution_count": 21,
     "metadata": {},
     "output_type": "execute_result"
    }
   ],
   "source": [
    "df_track.shape"
   ]
  },
  {
   "cell_type": "code",
   "execution_count": 22,
   "metadata": {
    "cell_style": "split",
    "scrolled": true
   },
   "outputs": [
    {
     "data": {
      "text/plain": [
       "Index(['session_id', 'session_position', 'session_length', 'track_id_clean',\n",
       "       'skip_1', 'skip_2', 'skip_3', 'not_skipped', 'context_switch',\n",
       "       'no_pause_before_play', 'short_pause_before_play',\n",
       "       'long_pause_before_play', 'hist_user_behavior_n_seekfwd',\n",
       "       'hist_user_behavior_n_seekback', 'hist_user_behavior_is_shuffle',\n",
       "       'hour_of_day', 'date', 'premium', 'context_type',\n",
       "       'hist_user_behavior_reason_start', 'hist_user_behavior_reason_end'],\n",
       "      dtype='object')"
      ]
     },
     "execution_count": 22,
     "metadata": {},
     "output_type": "execute_result"
    }
   ],
   "source": [
    "df_log.columns"
   ]
  },
  {
   "cell_type": "code",
   "execution_count": 23,
   "metadata": {
    "cell_style": "split",
    "scrolled": true
   },
   "outputs": [
    {
     "data": {
      "text/plain": [
       "session_id                         object\n",
       "session_position                    int64\n",
       "session_length                      int64\n",
       "track_id_clean                     object\n",
       "skip_1                               bool\n",
       "skip_2                               bool\n",
       "skip_3                               bool\n",
       "not_skipped                          bool\n",
       "context_switch                      int64\n",
       "no_pause_before_play                int64\n",
       "short_pause_before_play             int64\n",
       "long_pause_before_play              int64\n",
       "hist_user_behavior_n_seekfwd        int64\n",
       "hist_user_behavior_n_seekback       int64\n",
       "hist_user_behavior_is_shuffle        bool\n",
       "hour_of_day                         int64\n",
       "date                               object\n",
       "premium                              bool\n",
       "context_type                       object\n",
       "hist_user_behavior_reason_start    object\n",
       "hist_user_behavior_reason_end      object\n",
       "dtype: object"
      ]
     },
     "execution_count": 23,
     "metadata": {},
     "output_type": "execute_result"
    }
   ],
   "source": [
    "df_log.dtypes"
   ]
  },
  {
   "cell_type": "code",
   "execution_count": 24,
   "metadata": {},
   "outputs": [],
   "source": [
    "df_track.rename(columns = {'track_id':'track_id_clean'}, inplace = True) "
   ]
  },
  {
   "cell_type": "code",
   "execution_count": 25,
   "metadata": {
    "scrolled": true
   },
   "outputs": [
    {
     "data": {
      "text/plain": [
       "Index(['track_id_clean', 'duration', 'release_year', 'us_popularity_estimate',\n",
       "       'acousticness', 'beat_strength', 'bounciness', 'danceability',\n",
       "       'dyn_range_mean', 'energy', 'flatness', 'instrumentalness', 'key',\n",
       "       'liveness', 'loudness', 'mechanism', 'mode', 'organism', 'speechiness',\n",
       "       'tempo', 'time_signature', 'valence', 'acoustic_vector_0',\n",
       "       'acoustic_vector_1', 'acoustic_vector_2', 'acoustic_vector_3',\n",
       "       'acoustic_vector_4', 'acoustic_vector_5', 'acoustic_vector_6',\n",
       "       'acoustic_vector_7'],\n",
       "      dtype='object')"
      ]
     },
     "execution_count": 25,
     "metadata": {},
     "output_type": "execute_result"
    }
   ],
   "source": [
    "df_track.columns"
   ]
  },
  {
   "cell_type": "code",
   "execution_count": 26,
   "metadata": {
    "cell_style": "split",
    "scrolled": true
   },
   "outputs": [
    {
     "data": {
      "text/plain": [
       "not_skipped    111996\n",
       "dtype: int64"
      ]
     },
     "execution_count": 26,
     "metadata": {},
     "output_type": "execute_result"
    }
   ],
   "source": [
    "(df_log[['not_skipped']]==False).sum()"
   ]
  },
  {
   "cell_type": "code",
   "execution_count": 27,
   "metadata": {
    "cell_style": "split"
   },
   "outputs": [
    {
     "data": {
      "text/plain": [
       "not_skipped    55884\n",
       "dtype: int64"
      ]
     },
     "execution_count": 27,
     "metadata": {},
     "output_type": "execute_result"
    }
   ],
   "source": [
    "(df_log[['not_skipped']]==True).sum()"
   ]
  },
  {
   "cell_type": "code",
   "execution_count": 28,
   "metadata": {
    "cell_style": "split",
    "scrolled": true
   },
   "outputs": [
    {
     "data": {
      "text/plain": [
       "Index(['track_id_clean', 'duration', 'release_year', 'us_popularity_estimate',\n",
       "       'acousticness', 'beat_strength', 'bounciness', 'danceability',\n",
       "       'dyn_range_mean', 'energy', 'flatness', 'instrumentalness', 'key',\n",
       "       'liveness', 'loudness', 'mechanism', 'mode', 'organism', 'speechiness',\n",
       "       'tempo', 'time_signature', 'valence', 'acoustic_vector_0',\n",
       "       'acoustic_vector_1', 'acoustic_vector_2', 'acoustic_vector_3',\n",
       "       'acoustic_vector_4', 'acoustic_vector_5', 'acoustic_vector_6',\n",
       "       'acoustic_vector_7'],\n",
       "      dtype='object')"
      ]
     },
     "execution_count": 28,
     "metadata": {},
     "output_type": "execute_result"
    }
   ],
   "source": [
    "df_track.columns"
   ]
  },
  {
   "cell_type": "code",
   "execution_count": 29,
   "metadata": {
    "cell_style": "split",
    "scrolled": true
   },
   "outputs": [
    {
     "data": {
      "text/plain": [
       "track_id_clean             object\n",
       "duration                  float64\n",
       "release_year                int64\n",
       "us_popularity_estimate    float64\n",
       "acousticness              float64\n",
       "beat_strength             float64\n",
       "bounciness                float64\n",
       "danceability              float64\n",
       "dyn_range_mean            float64\n",
       "energy                    float64\n",
       "flatness                  float64\n",
       "instrumentalness          float64\n",
       "key                         int64\n",
       "liveness                  float64\n",
       "loudness                  float64\n",
       "mechanism                 float64\n",
       "mode                       object\n",
       "organism                  float64\n",
       "speechiness               float64\n",
       "tempo                     float64\n",
       "time_signature              int64\n",
       "valence                   float64\n",
       "acoustic_vector_0         float64\n",
       "acoustic_vector_1         float64\n",
       "acoustic_vector_2         float64\n",
       "acoustic_vector_3         float64\n",
       "acoustic_vector_4         float64\n",
       "acoustic_vector_5         float64\n",
       "acoustic_vector_6         float64\n",
       "acoustic_vector_7         float64\n",
       "dtype: object"
      ]
     },
     "execution_count": 29,
     "metadata": {},
     "output_type": "execute_result"
    }
   ],
   "source": [
    "df_track.dtypes"
   ]
  },
  {
   "cell_type": "code",
   "execution_count": 30,
   "metadata": {
    "cell_style": "split"
   },
   "outputs": [],
   "source": [
    "df_joined = df_log.merge(df_track,on ='track_id_clean') "
   ]
  },
  {
   "cell_type": "code",
   "execution_count": 31,
   "metadata": {
    "cell_style": "split",
    "scrolled": true
   },
   "outputs": [
    {
     "data": {
      "text/plain": [
       "(167880, 50)"
      ]
     },
     "execution_count": 31,
     "metadata": {},
     "output_type": "execute_result"
    }
   ],
   "source": [
    "df_joined.shape"
   ]
  },
  {
   "cell_type": "code",
   "execution_count": 32,
   "metadata": {
    "cell_style": "split",
    "scrolled": true
   },
   "outputs": [
    {
     "data": {
      "text/plain": [
       "session_id                         0\n",
       "session_position                   0\n",
       "session_length                     0\n",
       "track_id_clean                     0\n",
       "skip_1                             0\n",
       "skip_2                             0\n",
       "skip_3                             0\n",
       "not_skipped                        0\n",
       "context_switch                     0\n",
       "no_pause_before_play               0\n",
       "short_pause_before_play            0\n",
       "long_pause_before_play             0\n",
       "hist_user_behavior_n_seekfwd       0\n",
       "hist_user_behavior_n_seekback      0\n",
       "hist_user_behavior_is_shuffle      0\n",
       "hour_of_day                        0\n",
       "date                               0\n",
       "premium                            0\n",
       "context_type                       0\n",
       "hist_user_behavior_reason_start    0\n",
       "hist_user_behavior_reason_end      0\n",
       "duration                           0\n",
       "release_year                       0\n",
       "us_popularity_estimate             0\n",
       "acousticness                       0\n",
       "beat_strength                      0\n",
       "bounciness                         0\n",
       "danceability                       0\n",
       "dyn_range_mean                     0\n",
       "energy                             0\n",
       "flatness                           0\n",
       "instrumentalness                   0\n",
       "key                                0\n",
       "liveness                           0\n",
       "loudness                           0\n",
       "mechanism                          0\n",
       "mode                               0\n",
       "organism                           0\n",
       "speechiness                        0\n",
       "tempo                              0\n",
       "time_signature                     0\n",
       "valence                            0\n",
       "acoustic_vector_0                  0\n",
       "acoustic_vector_1                  0\n",
       "acoustic_vector_2                  0\n",
       "acoustic_vector_3                  0\n",
       "acoustic_vector_4                  0\n",
       "acoustic_vector_5                  0\n",
       "acoustic_vector_6                  0\n",
       "acoustic_vector_7                  0\n",
       "dtype: int64"
      ]
     },
     "execution_count": 32,
     "metadata": {},
     "output_type": "execute_result"
    }
   ],
   "source": [
    "df_joined.isna().sum()"
   ]
  },
  {
   "cell_type": "code",
   "execution_count": 33,
   "metadata": {
    "cell_style": "split",
    "scrolled": true
   },
   "outputs": [
    {
     "data": {
      "text/plain": [
       "session_id                          object\n",
       "session_position                     int64\n",
       "session_length                       int64\n",
       "track_id_clean                      object\n",
       "skip_1                                bool\n",
       "skip_2                                bool\n",
       "skip_3                                bool\n",
       "not_skipped                           bool\n",
       "context_switch                       int64\n",
       "no_pause_before_play                 int64\n",
       "short_pause_before_play              int64\n",
       "long_pause_before_play               int64\n",
       "hist_user_behavior_n_seekfwd         int64\n",
       "hist_user_behavior_n_seekback        int64\n",
       "hist_user_behavior_is_shuffle         bool\n",
       "hour_of_day                          int64\n",
       "date                                object\n",
       "premium                               bool\n",
       "context_type                        object\n",
       "hist_user_behavior_reason_start     object\n",
       "hist_user_behavior_reason_end       object\n",
       "duration                           float64\n",
       "release_year                         int64\n",
       "us_popularity_estimate             float64\n",
       "acousticness                       float64\n",
       "beat_strength                      float64\n",
       "bounciness                         float64\n",
       "danceability                       float64\n",
       "dyn_range_mean                     float64\n",
       "energy                             float64\n",
       "flatness                           float64\n",
       "instrumentalness                   float64\n",
       "key                                  int64\n",
       "liveness                           float64\n",
       "loudness                           float64\n",
       "mechanism                          float64\n",
       "mode                                object\n",
       "organism                           float64\n",
       "speechiness                        float64\n",
       "tempo                              float64\n",
       "time_signature                       int64\n",
       "valence                            float64\n",
       "acoustic_vector_0                  float64\n",
       "acoustic_vector_1                  float64\n",
       "acoustic_vector_2                  float64\n",
       "acoustic_vector_3                  float64\n",
       "acoustic_vector_4                  float64\n",
       "acoustic_vector_5                  float64\n",
       "acoustic_vector_6                  float64\n",
       "acoustic_vector_7                  float64\n",
       "dtype: object"
      ]
     },
     "execution_count": 33,
     "metadata": {},
     "output_type": "execute_result"
    }
   ],
   "source": [
    "df_joined.dtypes"
   ]
  },
  {
   "cell_type": "markdown",
   "metadata": {},
   "source": [
    "<b><font size=\"5\">Categorical Columns</b></font>"
   ]
  },
  {
   "cell_type": "code",
   "execution_count": 35,
   "metadata": {
    "scrolled": false
   },
   "outputs": [
    {
     "data": {
      "text/plain": [
       "Index(['session_id', 'track_id_clean', 'date', 'context_type',\n",
       "       'hist_user_behavior_reason_start', 'hist_user_behavior_reason_end',\n",
       "       'mode'],\n",
       "      dtype='object')"
      ]
     },
     "execution_count": 35,
     "metadata": {},
     "output_type": "execute_result"
    }
   ],
   "source": [
    "df_joined.select_dtypes(include=['object']).columns"
   ]
  },
  {
   "cell_type": "markdown",
   "metadata": {},
   "source": [
    "<b><font size=\"4\">1. Session ID</b></font>"
   ]
  },
  {
   "cell_type": "code",
   "execution_count": 36,
   "metadata": {},
   "outputs": [],
   "source": [
    "# Convert column into 'category' type\n",
    "df_joined[\"session_id\"]=df_joined[\"session_id\"].astype('category')\n",
    "# Create ordinal encoding\n",
    "df_joined[\"session_id\"] = df_joined[\"session_id\"].cat.codes"
   ]
  },
  {
   "cell_type": "markdown",
   "metadata": {},
   "source": [
    "<b><font size=\"4\">2. Track ID</b></font>"
   ]
  },
  {
   "cell_type": "code",
   "execution_count": 37,
   "metadata": {},
   "outputs": [],
   "source": [
    "# Convert column into 'category' type\n",
    "df_joined[\"track_id_clean\"]=df_joined[\"track_id_clean\"].astype('category')\n",
    "# Create ordinal encoding\n",
    "df_joined[\"track_id_clean\"] = df_joined[\"track_id_clean\"].cat.codes"
   ]
  },
  {
   "cell_type": "markdown",
   "metadata": {},
   "source": [
    "<b><font size=\"4\">3. Context Type</b></font>"
   ]
  },
  {
   "cell_type": "code",
   "execution_count": 38,
   "metadata": {
    "cell_style": "split",
    "scrolled": true
   },
   "outputs": [
    {
     "data": {
      "text/plain": [
       "array(['editorial_playlist', 'user_collection', 'catalog', 'radio',\n",
       "       'charts', 'personalized_playlist'], dtype=object)"
      ]
     },
     "execution_count": 38,
     "metadata": {},
     "output_type": "execute_result"
    }
   ],
   "source": [
    "df_joined[\"context_type\"].unique()"
   ]
  },
  {
   "cell_type": "code",
   "execution_count": 39,
   "metadata": {
    "cell_style": "split"
   },
   "outputs": [],
   "source": [
    "# Convert column into 'category' type\n",
    "df_joined[\"context_type\"]=df_joined[\"context_type\"].astype('category')\n",
    "df_joined = pd.concat([df_joined,pd.get_dummies(df_joined['context_type'], prefix='context')],axis=1)\n",
    "df_joined.drop(['context_type'],axis=1, inplace=True)"
   ]
  },
  {
   "cell_type": "markdown",
   "metadata": {},
   "source": [
    "<b><font size=\"4\">4. Reason Start</b></font>"
   ]
  },
  {
   "cell_type": "code",
   "execution_count": 40,
   "metadata": {
    "cell_style": "split",
    "scrolled": true
   },
   "outputs": [
    {
     "data": {
      "text/plain": [
       "array(['trackdone', 'fwdbtn', 'appload', 'playbtn', 'clickrow', 'backbtn',\n",
       "       'remote', 'endplay', 'trackerror'], dtype=object)"
      ]
     },
     "execution_count": 40,
     "metadata": {},
     "output_type": "execute_result"
    }
   ],
   "source": [
    "df_joined[\"hist_user_behavior_reason_start\"].unique()"
   ]
  },
  {
   "cell_type": "code",
   "execution_count": 41,
   "metadata": {
    "cell_style": "split"
   },
   "outputs": [],
   "source": [
    "# Convert column into 'category' type\n",
    "df_joined[\"hist_user_behavior_reason_start\"]=df_joined[\"hist_user_behavior_reason_start\"].astype('category')\n",
    "df_joined = pd.concat([df_joined,pd.get_dummies(df_joined['hist_user_behavior_reason_start'], prefix='start_user_behavior')],axis=1)\n",
    "df_joined.drop(['hist_user_behavior_reason_start'],axis=1, inplace=True)"
   ]
  },
  {
   "cell_type": "markdown",
   "metadata": {},
   "source": [
    "<b><font size=\"4\">5. Reason End</b></font>"
   ]
  },
  {
   "cell_type": "code",
   "execution_count": 42,
   "metadata": {
    "cell_style": "split",
    "scrolled": true
   },
   "outputs": [
    {
     "data": {
      "text/plain": [
       "array(['trackdone', 'endplay', 'fwdbtn', 'backbtn', 'remote', 'logout',\n",
       "       'clickrow'], dtype=object)"
      ]
     },
     "execution_count": 42,
     "metadata": {},
     "output_type": "execute_result"
    }
   ],
   "source": [
    "df_joined[\"hist_user_behavior_reason_end\"].unique()"
   ]
  },
  {
   "cell_type": "code",
   "execution_count": 43,
   "metadata": {
    "cell_style": "split"
   },
   "outputs": [],
   "source": [
    "# Convert column into 'category' type\n",
    "df_joined[\"hist_user_behavior_reason_end\"]=df_joined[\"hist_user_behavior_reason_end\"].astype('category')\n",
    "df_joined = pd.concat([df_joined,pd.get_dummies(df_joined['hist_user_behavior_reason_end'], prefix='end_user_behavior')],axis=1)\n",
    "df_joined.drop(['hist_user_behavior_reason_end'],axis=1, inplace=True)"
   ]
  },
  {
   "cell_type": "markdown",
   "metadata": {},
   "source": [
    "<b><font size=\"4\">6. Mode</b></font>"
   ]
  },
  {
   "cell_type": "code",
   "execution_count": 44,
   "metadata": {
    "cell_style": "split",
    "scrolled": true
   },
   "outputs": [
    {
     "data": {
      "text/plain": [
       "array(['major', 'minor'], dtype=object)"
      ]
     },
     "execution_count": 44,
     "metadata": {},
     "output_type": "execute_result"
    }
   ],
   "source": [
    "df_joined[\"mode\"].unique()"
   ]
  },
  {
   "cell_type": "code",
   "execution_count": 45,
   "metadata": {
    "cell_style": "split"
   },
   "outputs": [],
   "source": [
    "# Convert column into 'category' type\n",
    "df_joined[\"mode\"]=df_joined[\"mode\"].astype('category')\n",
    "df_joined = pd.concat([df_joined,pd.get_dummies(df_joined['mode'], prefix='mode')],axis=1)\n",
    "df_joined.drop(['mode'],axis=1, inplace=True)"
   ]
  },
  {
   "cell_type": "code",
   "execution_count": 46,
   "metadata": {},
   "outputs": [],
   "source": [
    "# Drop the date column since we expanded it out\n",
    "df_joined=df_joined.drop(columns=['date'])"
   ]
  },
  {
   "cell_type": "markdown",
   "metadata": {},
   "source": [
    "<b><font size=\"5\">Boolean Columns</b></font>"
   ]
  },
  {
   "cell_type": "code",
   "execution_count": 47,
   "metadata": {
    "scrolled": false
   },
   "outputs": [
    {
     "data": {
      "text/plain": [
       "Index(['session_id', 'session_position', 'session_length', 'track_id_clean',\n",
       "       'skip_1', 'skip_2', 'skip_3', 'not_skipped', 'context_switch',\n",
       "       'no_pause_before_play', 'short_pause_before_play',\n",
       "       'long_pause_before_play', 'hist_user_behavior_n_seekfwd',\n",
       "       'hist_user_behavior_n_seekback', 'hist_user_behavior_is_shuffle',\n",
       "       'hour_of_day', 'premium', 'duration', 'release_year',\n",
       "       'us_popularity_estimate', 'acousticness', 'beat_strength', 'bounciness',\n",
       "       'danceability', 'dyn_range_mean', 'energy', 'flatness',\n",
       "       'instrumentalness', 'key', 'liveness', 'loudness', 'mechanism',\n",
       "       'organism', 'speechiness', 'tempo', 'time_signature', 'valence',\n",
       "       'acoustic_vector_0', 'acoustic_vector_1', 'acoustic_vector_2',\n",
       "       'acoustic_vector_3', 'acoustic_vector_4', 'acoustic_vector_5',\n",
       "       'acoustic_vector_6', 'acoustic_vector_7', 'context_catalog',\n",
       "       'context_charts', 'context_editorial_playlist',\n",
       "       'context_personalized_playlist', 'context_radio',\n",
       "       'context_user_collection', 'start_user_behavior_appload',\n",
       "       'start_user_behavior_backbtn', 'start_user_behavior_clickrow',\n",
       "       'start_user_behavior_endplay', 'start_user_behavior_fwdbtn',\n",
       "       'start_user_behavior_playbtn', 'start_user_behavior_remote',\n",
       "       'start_user_behavior_trackdone', 'start_user_behavior_trackerror',\n",
       "       'end_user_behavior_backbtn', 'end_user_behavior_clickrow',\n",
       "       'end_user_behavior_endplay', 'end_user_behavior_fwdbtn',\n",
       "       'end_user_behavior_logout', 'end_user_behavior_remote',\n",
       "       'end_user_behavior_trackdone', 'mode_major', 'mode_minor'],\n",
       "      dtype='object')"
      ]
     },
     "execution_count": 47,
     "metadata": {},
     "output_type": "execute_result"
    }
   ],
   "source": [
    "l=df_joined.select_dtypes(include=['bool']).columns\n",
    "df_joined[l] = df_joined[l].astype(int)\n",
    "df_joined.columns"
   ]
  },
  {
   "cell_type": "markdown",
   "metadata": {},
   "source": [
    "# Train/Test Split "
   ]
  },
  {
   "cell_type": "code",
   "execution_count": 51,
   "metadata": {},
   "outputs": [],
   "source": [
    "# This function splits the session in half so that one half can be X value and half can be our Y value\n",
    "def split_data(traindf):\n",
    "    for_feats = traindf.loc[\n",
    "        lambda x: x.session_position <= x.session_length-1\n",
    "    ].copy()\n",
    "\n",
    "    traindf = traindf.loc[\n",
    "        lambda x: x.session_position >x.session_length-1\n",
    "    ].sort_values(['session_id', 'session_position'])\n",
    "\n",
    "\n",
    "    return (traindf.reset_index(drop=True),\n",
    "            for_feats.reset_index(drop=True))"
   ]
  },
  {
   "cell_type": "code",
   "execution_count": 52,
   "metadata": {},
   "outputs": [],
   "source": [
    "# We are going to use 80% of sessions to train and 20% to test\n",
    "sample_ids = df_joined.session_id.drop_duplicates().sample(frac=0.2).tolist()"
   ]
  },
  {
   "cell_type": "code",
   "execution_count": 53,
   "metadata": {},
   "outputs": [],
   "source": [
    "train_df, train_feats = split_data(\n",
    "    df_joined\n",
    "    .loc[lambda x: ~x.session_id.isin(sample_ids)]\n",
    "    .sort_values(['session_id', 'session_position'])\n",
    "    .reset_index(drop=True))"
   ]
  },
  {
   "cell_type": "code",
   "execution_count": 54,
   "metadata": {},
   "outputs": [],
   "source": [
    "test_df, test_feats = split_data(\n",
    "    df_joined\n",
    "    .loc[lambda x: x.session_id.isin(sample_ids)]\n",
    "    .sort_values(['session_id', 'session_position'])\n",
    "    .reset_index(drop=True))"
   ]
  },
  {
   "cell_type": "markdown",
   "metadata": {},
   "source": [
    "# Create Inputs"
   ]
  },
  {
   "cell_type": "code",
   "execution_count": 72,
   "metadata": {
    "cell_style": "split",
    "scrolled": true
   },
   "outputs": [
    {
     "data": {
      "text/plain": [
       "Index(['session_id', 'session_position', 'session_length', 'track_id_clean',\n",
       "       'skip_1', 'skip_2', 'skip_3', 'not_skipped', 'context_switch',\n",
       "       'no_pause_before_play', 'short_pause_before_play',\n",
       "       'long_pause_before_play', 'hist_user_behavior_n_seekfwd',\n",
       "       'hist_user_behavior_n_seekback', 'hist_user_behavior_is_shuffle',\n",
       "       'hour_of_day', 'premium', 'duration', 'release_year',\n",
       "       'us_popularity_estimate', 'acousticness', 'beat_strength', 'bounciness',\n",
       "       'danceability', 'dyn_range_mean', 'energy', 'flatness',\n",
       "       'instrumentalness', 'key', 'liveness', 'loudness', 'mechanism',\n",
       "       'organism', 'speechiness', 'tempo', 'time_signature', 'valence',\n",
       "       'acoustic_vector_0', 'acoustic_vector_1', 'acoustic_vector_2',\n",
       "       'acoustic_vector_3', 'acoustic_vector_4', 'acoustic_vector_5',\n",
       "       'acoustic_vector_6', 'acoustic_vector_7', 'context_catalog',\n",
       "       'context_charts', 'context_editorial_playlist',\n",
       "       'context_personalized_playlist', 'context_radio',\n",
       "       'context_user_collection', 'start_user_behavior_appload',\n",
       "       'start_user_behavior_backbtn', 'start_user_behavior_clickrow',\n",
       "       'start_user_behavior_endplay', 'start_user_behavior_fwdbtn',\n",
       "       'start_user_behavior_playbtn', 'start_user_behavior_remote',\n",
       "       'start_user_behavior_trackdone', 'start_user_behavior_trackerror',\n",
       "       'end_user_behavior_backbtn', 'end_user_behavior_clickrow',\n",
       "       'end_user_behavior_endplay', 'end_user_behavior_fwdbtn',\n",
       "       'end_user_behavior_logout', 'end_user_behavior_remote',\n",
       "       'end_user_behavior_trackdone', 'mode_major', 'mode_minor'],\n",
       "      dtype='object')"
      ]
     },
     "execution_count": 72,
     "metadata": {},
     "output_type": "execute_result"
    }
   ],
   "source": [
    "train_feats.columns"
   ]
  },
  {
   "cell_type": "code",
   "execution_count": 73,
   "metadata": {
    "cell_style": "split"
   },
   "outputs": [],
   "source": [
    "session_train=train_feats[['session_id', 'session_position', 'session_length',\n",
    "       'skip_1', 'skip_2', 'skip_3', 'not_skipped', 'context_switch',\n",
    "       'no_pause_before_play', 'short_pause_before_play',\n",
    "       'long_pause_before_play', 'hist_user_behavior_n_seekfwd',\n",
    "       'hist_user_behavior_n_seekback', 'hist_user_behavior_is_shuffle',\n",
    "       'context_catalog',\n",
    "       'context_charts', 'context_editorial_playlist',\n",
    "       'context_personalized_playlist', 'context_radio',\n",
    "       'context_user_collection', 'start_user_behavior_appload',\n",
    "       'start_user_behavior_backbtn', 'start_user_behavior_clickrow',\n",
    "       'start_user_behavior_endplay', 'start_user_behavior_fwdbtn',\n",
    "       'start_user_behavior_playbtn', 'start_user_behavior_remote',\n",
    "       'start_user_behavior_trackdone','start_user_behavior_trackerror',\n",
    "       'end_user_behavior_backbtn', 'end_user_behavior_clickrow',\n",
    "       'end_user_behavior_endplay', 'end_user_behavior_fwdbtn',\n",
    "       'end_user_behavior_logout','end_user_behavior_remote',\n",
    "       'end_user_behavior_trackdone']]"
   ]
  },
  {
   "cell_type": "code",
   "execution_count": 75,
   "metadata": {},
   "outputs": [],
   "source": [
    "# Create a 3 dimensional array with (Number of Sessions, # of Squences in first half, number of features )\n",
    "g = session_train.groupby('session_id').cumcount()\n",
    "mux = pd.MultiIndex.from_product([session_train['session_id'].unique(), g.unique()])\n",
    "X_sess_train = (session_train.set_index(['session_id',g])\n",
    "       .reindex(mux, fill_value=0)\n",
    "       .groupby(level=0)\n",
    "       .apply(lambda x: x.values.tolist())\n",
    "       .tolist()\n",
    ")"
   ]
  },
  {
   "cell_type": "code",
   "execution_count": 76,
   "metadata": {},
   "outputs": [],
   "source": [
    "# Convert to numpy array\n",
    "X_sess_train=np.asarray(X_sess_train)"
   ]
  },
  {
   "cell_type": "code",
   "execution_count": 77,
   "metadata": {
    "scrolled": true
   },
   "outputs": [
    {
     "data": {
      "text/plain": [
       "(8000, 19, 35)"
      ]
     },
     "execution_count": 77,
     "metadata": {},
     "output_type": "execute_result"
    }
   ],
   "source": [
    "X_sess_train.shape"
   ]
  },
  {
   "cell_type": "code",
   "execution_count": 79,
   "metadata": {},
   "outputs": [],
   "source": [
    "tracks_train=train_df[['session_id','track_id_clean','duration', 'release_year',\n",
    "       'us_popularity_estimate', 'acousticness', 'beat_strength', 'bounciness',\n",
    "       'danceability', 'dyn_range_mean', 'energy', 'flatness',\n",
    "       'instrumentalness', 'key', 'liveness', 'loudness', 'mechanism',\n",
    "       'organism', 'speechiness', 'tempo', 'time_signature', 'valence',\n",
    "       'acoustic_vector_0', 'acoustic_vector_1', 'acoustic_vector_2',\n",
    "       'acoustic_vector_3', 'acoustic_vector_4', 'acoustic_vector_5',\n",
    "       'acoustic_vector_6', 'acoustic_vector_7','mode_major', 'mode_minor']]"
   ]
  },
  {
   "cell_type": "code",
   "execution_count": 81,
   "metadata": {},
   "outputs": [],
   "source": [
    "tracks_train=tracks_train.drop_duplicates(['session_id'])\n",
    "tracks_train=tracks_train.drop(columns=['session_id'])"
   ]
  },
  {
   "cell_type": "code",
   "execution_count": 82,
   "metadata": {},
   "outputs": [],
   "source": [
    "# Normalize data between 0 and 1\n",
    "# MinMax Scaler shrinks values between 0 and 1\n",
    "# Identify the scaler being used\n",
    "scaler = preprocessing.MinMaxScaler(feature_range=(0, 1))\n",
    "# Scale the data\n",
    "scaled_df2 = scaler.fit_transform(tracks_train)\n",
    "# Create a list of all column names\n",
    "columns=tracks_train.columns\n",
    "# Put scaled data into a dataframe with same column names\n",
    "scaled_df2 = pd.DataFrame(scaled_df2, columns=columns)\n",
    "tracks_train=scaled_df2"
   ]
  },
  {
   "cell_type": "code",
   "execution_count": 83,
   "metadata": {
    "scrolled": true
   },
   "outputs": [],
   "source": [
    "X_track_train=np.asarray(tracks_train)"
   ]
  },
  {
   "cell_type": "code",
   "execution_count": 84,
   "metadata": {
    "scrolled": true
   },
   "outputs": [
    {
     "data": {
      "text/plain": [
       "(8000, 31)"
      ]
     },
     "execution_count": 84,
     "metadata": {},
     "output_type": "execute_result"
    }
   ],
   "source": [
    "# Get shape of your X_train\n",
    "X_track_train.shape"
   ]
  },
  {
   "cell_type": "code",
   "execution_count": 86,
   "metadata": {},
   "outputs": [],
   "source": [
    "prev_tracks_train=train_feats[['session_id','track_id_clean','duration', 'release_year',\n",
    "       'us_popularity_estimate', 'acousticness', 'beat_strength', 'bounciness',\n",
    "       'danceability', 'dyn_range_mean', 'energy', 'flatness',\n",
    "       'instrumentalness', 'key', 'liveness', 'loudness', 'mechanism',\n",
    "       'organism', 'speechiness', 'tempo', 'time_signature', 'valence',\n",
    "       'acoustic_vector_0', 'acoustic_vector_1', 'acoustic_vector_2',\n",
    "       'acoustic_vector_3', 'acoustic_vector_4', 'acoustic_vector_5',\n",
    "       'acoustic_vector_6', 'acoustic_vector_7','mode_major', 'mode_minor']]"
   ]
  },
  {
   "cell_type": "code",
   "execution_count": 88,
   "metadata": {},
   "outputs": [],
   "source": [
    "# Normalize data between 0 and 1\n",
    "# MinMax Scaler shrinks values between 0 and 1\n",
    "# Identify the scaler being used\n",
    "scaler = MinMaxScaler()\n",
    "# Scale the data\n",
    "scaled_df2 = scaler.fit_transform(prev_tracks_train)\n",
    "# Create a list of all column names\n",
    "columns=prev_tracks_train.columns\n",
    "# Put scaled data into a dataframe with same column names\n",
    "scaled_df2 = pd.DataFrame(scaled_df2, columns=columns)\n",
    "prev_tracks_train=scaled_df2"
   ]
  },
  {
   "cell_type": "code",
   "execution_count": 89,
   "metadata": {},
   "outputs": [],
   "source": [
    "# Create a 3 dimensional array with (Number of Sessions, # of Squences in first half, number of features )\n",
    "g = prev_tracks_train.groupby('session_id').cumcount()\n",
    "mux = pd.MultiIndex.from_product([prev_tracks_train['session_id'].unique(), g.unique()])\n",
    "X_prevtrack_train = (prev_tracks_train.set_index(['session_id',g])\n",
    "       .reindex(mux, fill_value=0)\n",
    "       .groupby(level=0)\n",
    "       .apply(lambda x: x.values.tolist())\n",
    "       .tolist()\n",
    ")"
   ]
  },
  {
   "cell_type": "code",
   "execution_count": 91,
   "metadata": {},
   "outputs": [],
   "source": [
    "# Convert to numpy array\n",
    "X_prevtrack_train=np.asarray(X_prevtrack_train)\n"
   ]
  },
  {
   "cell_type": "code",
   "execution_count": 92,
   "metadata": {},
   "outputs": [
    {
     "data": {
      "text/plain": [
       "(8000, 19, 31)"
      ]
     },
     "execution_count": 92,
     "metadata": {},
     "output_type": "execute_result"
    }
   ],
   "source": [
    "X_prevtrack_train.shape"
   ]
  },
  {
   "cell_type": "markdown",
   "metadata": {},
   "source": [
    "TEST"
   ]
  },
  {
   "cell_type": "code",
   "execution_count": 93,
   "metadata": {},
   "outputs": [],
   "source": [
    "session_test=test_feats[['session_id', 'session_position', 'session_length',\n",
    "       'skip_1', 'skip_2', 'skip_3', 'not_skipped', 'context_switch',\n",
    "       'no_pause_before_play', 'short_pause_before_play',\n",
    "       'long_pause_before_play', 'hist_user_behavior_n_seekfwd',\n",
    "       'hist_user_behavior_n_seekback', 'hist_user_behavior_is_shuffle',\n",
    "       'context_catalog',\n",
    "       'context_charts', 'context_editorial_playlist',\n",
    "       'context_personalized_playlist', 'context_radio',\n",
    "       'context_user_collection', 'start_user_behavior_appload',\n",
    "       'start_user_behavior_backbtn', 'start_user_behavior_clickrow',\n",
    "       'start_user_behavior_endplay', 'start_user_behavior_fwdbtn',\n",
    "       'start_user_behavior_playbtn', 'start_user_behavior_remote',\n",
    "       'start_user_behavior_trackdone','start_user_behavior_trackerror',\n",
    "       'end_user_behavior_backbtn', 'end_user_behavior_clickrow',\n",
    "       'end_user_behavior_endplay', 'end_user_behavior_fwdbtn',\n",
    "       'end_user_behavior_logout','end_user_behavior_remote',\n",
    "       'end_user_behavior_trackdone']]"
   ]
  },
  {
   "cell_type": "code",
   "execution_count": 94,
   "metadata": {},
   "outputs": [],
   "source": [
    "# Create a 3 dimensional array with (Number of Sessions, # of Squences in first half, number of features )\n",
    "g = session_test.groupby('session_id').cumcount()\n",
    "mux = pd.MultiIndex.from_product([session_test['session_id'].unique(), g.unique()])\n",
    "X_sess_test = (session_test.set_index(['session_id',g])\n",
    "       .reindex(mux, fill_value=0)\n",
    "       .groupby(level=0)\n",
    "       .apply(lambda x: x.values.tolist())\n",
    "       .tolist()\n",
    ")"
   ]
  },
  {
   "cell_type": "code",
   "execution_count": 95,
   "metadata": {},
   "outputs": [
    {
     "data": {
      "text/plain": [
       "(2000, 19, 35)"
      ]
     },
     "execution_count": 95,
     "metadata": {},
     "output_type": "execute_result"
    }
   ],
   "source": [
    "# Convert to numpy array\n",
    "X_sess_test=np.asarray(X_sess_test)\n",
    "X_sess_test.shape"
   ]
  },
  {
   "cell_type": "code",
   "execution_count": 96,
   "metadata": {},
   "outputs": [],
   "source": [
    "tracks_test=test_df[['session_id','track_id_clean','duration', 'release_year',\n",
    "       'us_popularity_estimate', 'acousticness', 'beat_strength', 'bounciness',\n",
    "       'danceability', 'dyn_range_mean', 'energy', 'flatness',\n",
    "       'instrumentalness', 'key', 'liveness', 'loudness', 'mechanism',\n",
    "       'organism', 'speechiness', 'tempo', 'time_signature', 'valence',\n",
    "       'acoustic_vector_0', 'acoustic_vector_1', 'acoustic_vector_2',\n",
    "       'acoustic_vector_3', 'acoustic_vector_4', 'acoustic_vector_5',\n",
    "       'acoustic_vector_6', 'acoustic_vector_7','mode_major', 'mode_minor']]"
   ]
  },
  {
   "cell_type": "code",
   "execution_count": 97,
   "metadata": {},
   "outputs": [],
   "source": [
    "tracks_test=tracks_test.drop_duplicates(['session_id'])\n",
    "tracks_test=tracks_test.drop(columns=['session_id'])"
   ]
  },
  {
   "cell_type": "code",
   "execution_count": 98,
   "metadata": {},
   "outputs": [],
   "source": [
    "# Normalize data between 0 and 1\n",
    "# MinMax Scaler shrinks values between 0 and 1\n",
    "# Identify the scaler being used\n",
    "scaler = MinMaxScaler()\n",
    "# Scale the data\n",
    "scaled_df2 = scaler.fit_transform(tracks_test)\n",
    "# Create a list of all column names\n",
    "columns=tracks_train.columns\n",
    "# Put scaled data into a dataframe with same column names\n",
    "scaled_df2 = pd.DataFrame(scaled_df2, columns=columns)\n",
    "tracks_test=scaled_df2"
   ]
  },
  {
   "cell_type": "code",
   "execution_count": 99,
   "metadata": {},
   "outputs": [
    {
     "data": {
      "text/plain": [
       "(2000, 31)"
      ]
     },
     "execution_count": 99,
     "metadata": {},
     "output_type": "execute_result"
    }
   ],
   "source": [
    "X_track_test=np.asarray(tracks_test)\n",
    "X_track_test.shape"
   ]
  },
  {
   "cell_type": "code",
   "execution_count": 100,
   "metadata": {},
   "outputs": [],
   "source": [
    "prev_tracks_test=test_feats[['session_id','track_id_clean','duration', 'release_year',\n",
    "       'us_popularity_estimate', 'acousticness', 'beat_strength', 'bounciness',\n",
    "       'danceability', 'dyn_range_mean', 'energy', 'flatness',\n",
    "       'instrumentalness', 'key', 'liveness', 'loudness', 'mechanism',\n",
    "       'organism', 'speechiness', 'tempo', 'time_signature', 'valence',\n",
    "       'acoustic_vector_0', 'acoustic_vector_1', 'acoustic_vector_2',\n",
    "       'acoustic_vector_3', 'acoustic_vector_4', 'acoustic_vector_5',\n",
    "       'acoustic_vector_6', 'acoustic_vector_7','mode_major', 'mode_minor']]"
   ]
  },
  {
   "cell_type": "code",
   "execution_count": 101,
   "metadata": {},
   "outputs": [],
   "source": [
    "# Normalize data between 0 and 1\n",
    "# MinMax Scaler shrinks values between 0 and 1\n",
    "# Identify the scaler being used\n",
    "scaler = MinMaxScaler()\n",
    "# Scale the data\n",
    "scaled_df2 = scaler.fit_transform(prev_tracks_test)\n",
    "# Create a list of all column names\n",
    "columns=prev_tracks_test.columns\n",
    "# Put scaled data into a dataframe with same column names\n",
    "scaled_df2 = pd.DataFrame(scaled_df2, columns=columns)\n",
    "prev_tracks_test=scaled_df2"
   ]
  },
  {
   "cell_type": "code",
   "execution_count": 102,
   "metadata": {},
   "outputs": [],
   "source": [
    "# Create a 3 dimensional array with (Number of Sessions, # of Squences in first half, number of features )\n",
    "g = prev_tracks_test.groupby('session_id').cumcount()\n",
    "mux = pd.MultiIndex.from_product([prev_tracks_test['session_id'].unique(), g.unique()])\n",
    "X_prevtrack_test = (prev_tracks_test.set_index(['session_id',g])\n",
    "       .reindex(mux, fill_value=0)\n",
    "       .groupby(level=0)\n",
    "       .apply(lambda x: x.values.tolist())\n",
    "       .tolist()\n",
    ")"
   ]
  },
  {
   "cell_type": "code",
   "execution_count": 103,
   "metadata": {},
   "outputs": [],
   "source": [
    "# Convert to numpy array\n",
    "X_prevtrack_test=np.asarray(X_prevtrack_test)"
   ]
  },
  {
   "cell_type": "code",
   "execution_count": 104,
   "metadata": {},
   "outputs": [
    {
     "data": {
      "text/plain": [
       "(2000, 19, 31)"
      ]
     },
     "execution_count": 104,
     "metadata": {},
     "output_type": "execute_result"
    }
   ],
   "source": [
    "X_prevtrack_test.shape"
   ]
  },
  {
   "cell_type": "code",
   "execution_count": 106,
   "metadata": {},
   "outputs": [],
   "source": [
    "train_pre_pred = train_feats.groupby('session_id')['not_skipped'].apply(lambda x: x.tolist()).tolist()\n",
    "test_pre_pred = test_feats.groupby('session_id')['not_skipped'].apply(lambda x: x.tolist()).tolist()"
   ]
  },
  {
   "cell_type": "code",
   "execution_count": 116,
   "metadata": {},
   "outputs": [],
   "source": [
    "x3_train=k.sequence.pad_sequences(train_pre_pred, maxlen = 19, dtype = \"int32\",\n",
    "  padding = \"pre\", truncating = \"pre\", value = 9)\n"
   ]
  },
  {
   "cell_type": "code",
   "execution_count": 117,
   "metadata": {},
   "outputs": [
    {
     "data": {
      "text/plain": [
       "(8000, 19)"
      ]
     },
     "execution_count": 117,
     "metadata": {},
     "output_type": "execute_result"
    }
   ],
   "source": [
    "x3_train.shape"
   ]
  },
  {
   "cell_type": "code",
   "execution_count": 118,
   "metadata": {},
   "outputs": [],
   "source": [
    "x3_test=k.sequence.pad_sequences(test_pre_pred, maxlen = 19, dtype = \"int32\",\n",
    "  padding = \"pre\", truncating = \"pre\", value = 9)"
   ]
  },
  {
   "cell_type": "code",
   "execution_count": 120,
   "metadata": {},
   "outputs": [],
   "source": [
    "x3_test=np.reshape(x3_test, (2000, 19, 1))"
   ]
  },
  {
   "cell_type": "code",
   "execution_count": 121,
   "metadata": {},
   "outputs": [],
   "source": [
    "x3_train=np.reshape(x3_train, (8000, 19, 1))"
   ]
  },
  {
   "cell_type": "code",
   "execution_count": 122,
   "metadata": {},
   "outputs": [
    {
     "data": {
      "text/plain": [
       "(8000, 19, 1)"
      ]
     },
     "execution_count": 122,
     "metadata": {},
     "output_type": "execute_result"
    }
   ],
   "source": [
    "x3_train.shape"
   ]
  },
  {
   "cell_type": "markdown",
   "metadata": {
    "heading_collapsed": true
   },
   "source": [
    "# Create Y Variables"
   ]
  },
  {
   "cell_type": "code",
   "execution_count": 123,
   "metadata": {
    "hidden": true
   },
   "outputs": [],
   "source": [
    "y_train=train_df.drop_duplicates(['session_id'])"
   ]
  },
  {
   "cell_type": "code",
   "execution_count": 124,
   "metadata": {
    "hidden": true
   },
   "outputs": [],
   "source": [
    "Y_train=y_train[['not_skipped']]"
   ]
  },
  {
   "cell_type": "code",
   "execution_count": 125,
   "metadata": {
    "hidden": true
   },
   "outputs": [
    {
     "data": {
      "text/html": [
       "<div>\n",
       "<style scoped>\n",
       "    .dataframe tbody tr th:only-of-type {\n",
       "        vertical-align: middle;\n",
       "    }\n",
       "\n",
       "    .dataframe tbody tr th {\n",
       "        vertical-align: top;\n",
       "    }\n",
       "\n",
       "    .dataframe thead th {\n",
       "        text-align: right;\n",
       "    }\n",
       "</style>\n",
       "<table border=\"1\" class=\"dataframe\">\n",
       "  <thead>\n",
       "    <tr style=\"text-align: right;\">\n",
       "      <th></th>\n",
       "      <th>not_skipped</th>\n",
       "    </tr>\n",
       "  </thead>\n",
       "  <tbody>\n",
       "    <tr>\n",
       "      <th>0</th>\n",
       "      <td>0</td>\n",
       "    </tr>\n",
       "    <tr>\n",
       "      <th>1</th>\n",
       "      <td>1</td>\n",
       "    </tr>\n",
       "    <tr>\n",
       "      <th>2</th>\n",
       "      <td>0</td>\n",
       "    </tr>\n",
       "    <tr>\n",
       "      <th>3</th>\n",
       "      <td>0</td>\n",
       "    </tr>\n",
       "    <tr>\n",
       "      <th>4</th>\n",
       "      <td>1</td>\n",
       "    </tr>\n",
       "    <tr>\n",
       "      <th>...</th>\n",
       "      <td>...</td>\n",
       "    </tr>\n",
       "    <tr>\n",
       "      <th>7995</th>\n",
       "      <td>0</td>\n",
       "    </tr>\n",
       "    <tr>\n",
       "      <th>7996</th>\n",
       "      <td>0</td>\n",
       "    </tr>\n",
       "    <tr>\n",
       "      <th>7997</th>\n",
       "      <td>0</td>\n",
       "    </tr>\n",
       "    <tr>\n",
       "      <th>7998</th>\n",
       "      <td>0</td>\n",
       "    </tr>\n",
       "    <tr>\n",
       "      <th>7999</th>\n",
       "      <td>1</td>\n",
       "    </tr>\n",
       "  </tbody>\n",
       "</table>\n",
       "<p>8000 rows × 1 columns</p>\n",
       "</div>"
      ],
      "text/plain": [
       "      not_skipped\n",
       "0               0\n",
       "1               1\n",
       "2               0\n",
       "3               0\n",
       "4               1\n",
       "...           ...\n",
       "7995            0\n",
       "7996            0\n",
       "7997            0\n",
       "7998            0\n",
       "7999            1\n",
       "\n",
       "[8000 rows x 1 columns]"
      ]
     },
     "execution_count": 125,
     "metadata": {},
     "output_type": "execute_result"
    }
   ],
   "source": [
    "Y_train"
   ]
  },
  {
   "cell_type": "code",
   "execution_count": 126,
   "metadata": {
    "hidden": true,
    "scrolled": true
   },
   "outputs": [
    {
     "data": {
      "text/plain": [
       "0    4361\n",
       "1    3639\n",
       "Name: not_skipped, dtype: int64"
      ]
     },
     "execution_count": 126,
     "metadata": {},
     "output_type": "execute_result"
    }
   ],
   "source": [
    "train_df['not_skipped'].value_counts()"
   ]
  },
  {
   "cell_type": "code",
   "execution_count": 127,
   "metadata": {
    "hidden": true
   },
   "outputs": [],
   "source": [
    "Y_train=np.asarray(Y_train)\n",
    "Y_train = Y_train.ravel()"
   ]
  },
  {
   "cell_type": "code",
   "execution_count": 128,
   "metadata": {
    "hidden": true,
    "scrolled": true
   },
   "outputs": [
    {
     "data": {
      "text/plain": [
       "(8000,)"
      ]
     },
     "execution_count": 128,
     "metadata": {},
     "output_type": "execute_result"
    }
   ],
   "source": [
    "Y_train.shape"
   ]
  },
  {
   "cell_type": "code",
   "execution_count": 129,
   "metadata": {
    "hidden": true,
    "scrolled": true
   },
   "outputs": [
    {
     "data": {
      "text/plain": [
       "0    1136\n",
       "1     864\n",
       "Name: not_skipped, dtype: int64"
      ]
     },
     "execution_count": 129,
     "metadata": {},
     "output_type": "execute_result"
    }
   ],
   "source": [
    "test_df['not_skipped'].value_counts()"
   ]
  },
  {
   "cell_type": "code",
   "execution_count": 130,
   "metadata": {
    "hidden": true
   },
   "outputs": [],
   "source": [
    "y_test=test_df.drop_duplicates(['session_id'])\n",
    "Y_test=y_test[['not_skipped']]\n",
    "Y_test=np.asarray(Y_test)\n",
    "Y_test = Y_test.ravel()"
   ]
  },
  {
   "cell_type": "code",
   "execution_count": 131,
   "metadata": {
    "hidden": true
   },
   "outputs": [
    {
     "data": {
      "text/plain": [
       "(2000,)"
      ]
     },
     "execution_count": 131,
     "metadata": {},
     "output_type": "execute_result"
    }
   ],
   "source": [
    "Y_test.shape"
   ]
  },
  {
   "cell_type": "code",
   "execution_count": 132,
   "metadata": {
    "hidden": true
   },
   "outputs": [],
   "source": [
    "from keras.utils import to_categorical\n",
    "Y_test = to_categorical(Y_test)\n",
    "Y_train = to_categorical(Y_train)"
   ]
  },
  {
   "cell_type": "code",
   "execution_count": 133,
   "metadata": {
    "hidden": true
   },
   "outputs": [],
   "source": [
    "y_test2=test_df.drop_duplicates(['session_id'])\n",
    "Y_test2=y_test2[['not_skipped']]\n",
    "Y_test2=np.asarray(Y_test2)\n"
   ]
  },
  {
   "cell_type": "code",
   "execution_count": 134,
   "metadata": {
    "hidden": true,
    "scrolled": true
   },
   "outputs": [
    {
     "data": {
      "text/plain": [
       "(2000, 1)"
      ]
     },
     "execution_count": 134,
     "metadata": {},
     "output_type": "execute_result"
    }
   ],
   "source": [
    "Y_test2.shape"
   ]
  },
  {
   "cell_type": "code",
   "execution_count": 135,
   "metadata": {
    "hidden": true,
    "scrolled": true
   },
   "outputs": [
    {
     "data": {
      "text/plain": [
       "array([[<matplotlib.axes._subplots.AxesSubplot object at 0x1a672294d0>]],\n",
       "      dtype=object)"
      ]
     },
     "execution_count": 135,
     "metadata": {},
     "output_type": "execute_result"
    },
    {
     "data": {
      "image/png": "[encoded data removed]",
      "text/plain": [
       "<Figure size 432x288 with 1 Axes>"
      ]
     },
     "metadata": {
      "needs_background": "light"
     },
     "output_type": "display_data"
    }
   ],
   "source": [
    "y_train.hist(column='not_skipped')"
   ]
  },
  {
   "cell_type": "code",
   "execution_count": 136,
   "metadata": {
    "hidden": true
   },
   "outputs": [
    {
     "data": {
      "text/plain": [
       "array([[<matplotlib.axes._subplots.AxesSubplot object at 0x1a675e2e90>]],\n",
       "      dtype=object)"
      ]
     },
     "execution_count": 136,
     "metadata": {},
     "output_type": "execute_result"
    },
    {
     "data": {
      "image/png": "[encoded data removed]",
      "text/plain": [
       "<Figure size 432x288 with 1 Axes>"
      ]
     },
     "metadata": {
      "needs_background": "light"
     },
     "output_type": "display_data"
    }
   ],
   "source": [
    "y_test.hist(column='not_skipped')"
   ]
  },
  {
   "cell_type": "markdown",
   "metadata": {},
   "source": [
    "# Fit Model"
   ]
  },
  {
   "cell_type": "code",
   "execution_count": 114,
   "metadata": {},
   "outputs": [
    {
     "name": "stderr",
     "output_type": "stream",
     "text": [
      "Using TensorFlow backend.\n"
     ]
    }
   ],
   "source": [
    "# import keras_preprocessing as k\n",
    "# import keras.layers as kl\n",
    "# import keras.optimizers as ko\n",
    "# import keras.callbacks as kc\n",
    "# import keras.backend as K\n",
    "# import keras.initializers as ki\n",
    "# from keras.utils import Sequence\n",
    "# from keras.models import Model\n",
    "# from keras.models import Sequential"
   ]
  },
  {
   "cell_type": "code",
   "execution_count": 137,
   "metadata": {},
   "outputs": [],
   "source": [
    "callbacks = [\n",
    "    kc.EarlyStopping(monitor='val_loss',\n",
    "                     patience=15,\n",
    "                     verbose=1,\n",
    "                     min_delta=1e-4,\n",
    "                     mode='min',\n",
    "                    restore_best_weights=True),\n",
    "    kc.ReduceLROnPlateau(monitor='val_loss',\n",
    "                         factor=0.1,\n",
    "                         patience=4,\n",
    "                         verbose=1,\n",
    "                         epsilon=1e-4,\n",
    "                         mode='min'),\n",
    "    kc.ModelCheckpoint(monitor='val_loss',\n",
    "                       filepath='model_weights_l{}.hdf5'.format(20),\n",
    "                       save_best_only=True,\n",
    "                       save_weights_only=True)\n",
    "]"
   ]
  },
  {
   "cell_type": "code",
   "execution_count": 138,
   "metadata": {},
   "outputs": [],
   "source": [
    "def buildModel():\n",
    "    session = kl.Input(shape=(19,35), name ='session')\n",
    "    prev_tracks = kl.Input(shape=(19,31), name ='prev_track')\n",
    "    track=kl.Input(shape=(31,), name='track')\n",
    "    prev_skips=kl.Input(shape=(19,1), name ='prev_skips')\n",
    "    \n",
    "# PREVIOUS SESSIONS INPUT     \n",
    "    session1=kl.LSTM(128, activation='relu',kernel_initializer='random_uniform',\n",
    "                bias_initializer=ki.constant(0.1),return_sequences=True)(session)\n",
    "    session2=kl.Dropout(0.4)(session1)\n",
    "\n",
    "    sessionLayers=kl.LSTM(128, activation='relu',kernel_initializer='random_uniform',\n",
    "                bias_initializer=ki.constant(0.1),return_sequences=False)(session2)\n",
    "    sessionLayers=kl.Dropout(0.4)(sessionLayers)\n",
    "    \n",
    "    \n",
    " # PREVIOUS TRACKS INPUT     \n",
    "   \n",
    "    session7=kl.LSTM(128, activation='relu',kernel_initializer='random_uniform',\n",
    "                bias_initializer=ki.constant(0.1),return_sequences=True)(prev_tracks)\n",
    "    session8=kl.Dropout(0.4)(session7)\n",
    "  \n",
    "    sessionLayers2=kl.LSTM(128, activation='relu',kernel_initializer='random_uniform',\n",
    "                bias_initializer=ki.constant(0.1),return_sequences=False)(session8)\n",
    "    sessionLayers2=kl.Dropout(0.4)(sessionLayers2)\n",
    "    \n",
    " # TRACK TO PREDICT    \n",
    "\n",
    "    trackLayer=kl.Dense(64, kernel_initializer='random_uniform',\n",
    "                bias_initializer=ki.constant(0.1),activation='relu')(track)\n",
    "    trackLayer=kl.Dropout(0.4)(trackLayer)\n",
    "    trackLayer=kl.Dense(64, kernel_initializer='random_uniform',\n",
    "                bias_initializer=ki.constant(0.1),activation='relu')(trackLayer)\n",
    "\n",
    "# MERGE TRACK TO PREDICT WITH PREVIOUS TRACK INPUTS\n",
    "    merge=kl.concatenate(\n",
    "        [trackLayer,\n",
    "            sessionLayers2\n",
    "        ])\n",
    "    merge=kl.Dropout(0.5)(merge)\n",
    "\n",
    "\n",
    "# SEQUENCE OF PREVIOUS SKIPS    \n",
    "\n",
    "    skip1=kl.LSTM(264, activation='relu',kernel_initializer='random_uniform',\n",
    "                bias_initializer=ki.constant(0.1),return_sequences=True)(prev_skips)\n",
    "    skip1=kl.Dropout(0.4)(skip1)\n",
    "    skip1=kl.LSTM(264, activation='relu',kernel_initializer='random_uniform',\n",
    "                bias_initializer=ki.constant(0.1),return_sequences=False)(skip1)\n",
    "    skip1=kl.Dropout(0.4)(skip1)\n",
    "    \n",
    "\n",
    "\n",
    "\n",
    "# MERGE PREVIOUS SESSIONS AND SEQUENCE OF SKIPS\n",
    "\n",
    "\n",
    "    merge2=kl.concatenate(\n",
    "        [sessionLayers,\n",
    "            skip1\n",
    "        ])\n",
    "    merge2=kl.Dropout(0.5)(merge2)\n",
    "    \n",
    "# MERGE ALL\n",
    "\n",
    "\n",
    "    merge2=kl.concatenate(\n",
    "        [merge2,\n",
    "            merge\n",
    "        ])\n",
    "\n",
    "    merge2=kl.Dropout(0.4)(merge2)\n",
    "\n",
    "\n",
    "    output=kl.Dense(2, activation='sigmoid')(merge2)\n",
    "    \n",
    "    model = Model(inputs = [session,prev_tracks,track, prev_skips], outputs=[output])\n",
    "        \n",
    "    model.compile(optimizer='adam', loss='binary_crossentropy',metrics=['accuracy'])\n",
    "    return model"
   ]
  },
  {
   "cell_type": "code",
   "execution_count": 139,
   "metadata": {},
   "outputs": [
    {
     "name": "stdout",
     "output_type": "stream",
     "text": [
      "WARNING:tensorflow:From /Users/aescot2/.local/lib/python3.7/site-packages/tensorflow/python/ops/nn_impl.py:180: add_dispatch_support.<locals>.wrapper (from tensorflow.python.ops.array_ops) is deprecated and will be removed in a future version.\n",
      "Instructions for updating:\n",
      "Use tf.where in 2.0, which has the same broadcast rule as np.where\n"
     ]
    }
   ],
   "source": [
    "rnn=buildModel()"
   ]
  },
  {
   "cell_type": "code",
   "execution_count": 141,
   "metadata": {
    "scrolled": true
   },
   "outputs": [
    {
     "name": "stdout",
     "output_type": "stream",
     "text": [
      "Train on 8000 samples, validate on 2000 samples\n",
      "Epoch 1/100\n",
      "8000/8000 [==============================] - 13s 2ms/step - loss: 0.6126 - accuracy: 0.6684 - val_loss: 0.5945 - val_accuracy: 0.6622\n",
      "Epoch 2/100\n",
      "8000/8000 [==============================] - 16s 2ms/step - loss: 0.6033 - accuracy: 0.6752 - val_loss: 0.5862 - val_accuracy: 0.6762\n",
      "Epoch 3/100\n",
      "8000/8000 [==============================] - 22s 3ms/step - loss: 0.5931 - accuracy: 0.6826 - val_loss: 0.5777 - val_accuracy: 0.6950\n",
      "Epoch 4/100\n",
      "8000/8000 [==============================] - 31s 4ms/step - loss: 0.5843 - accuracy: 0.6857 - val_loss: 0.5724 - val_accuracy: 0.6988\n",
      "Epoch 5/100\n",
      "8000/8000 [==============================] - 43s 5ms/step - loss: 0.5803 - accuracy: 0.6917 - val_loss: 0.5658 - val_accuracy: 0.6990\n",
      "Epoch 6/100\n",
      "8000/8000 [==============================] - 39s 5ms/step - loss: 0.5732 - accuracy: 0.6948 - val_loss: 0.5603 - val_accuracy: 0.7075\n",
      "Epoch 7/100\n",
      "8000/8000 [==============================] - 38s 5ms/step - loss: 0.5692 - accuracy: 0.7042 - val_loss: 0.5603 - val_accuracy: 0.7078\n",
      "Epoch 8/100\n",
      "8000/8000 [==============================] - 34s 4ms/step - loss: 0.5692 - accuracy: 0.7047 - val_loss: 0.5554 - val_accuracy: 0.7122\n",
      "Epoch 9/100\n",
      "8000/8000 [==============================] - 27s 3ms/step - loss: 0.5627 - accuracy: 0.7098 - val_loss: 0.5514 - val_accuracy: 0.7197\n",
      "Epoch 10/100\n",
      "8000/8000 [==============================] - 29s 4ms/step - loss: 0.5606 - accuracy: 0.7121 - val_loss: 0.5553 - val_accuracy: 0.7212\n",
      "Epoch 11/100\n",
      "8000/8000 [==============================] - 29s 4ms/step - loss: 0.5632 - accuracy: 0.7122 - val_loss: 0.5499 - val_accuracy: 0.7168\n",
      "Epoch 12/100\n",
      "8000/8000 [==============================] - 29s 4ms/step - loss: 0.5608 - accuracy: 0.7142 - val_loss: 0.5474 - val_accuracy: 0.7285\n",
      "Epoch 13/100\n",
      "8000/8000 [==============================] - 29s 4ms/step - loss: 0.5536 - accuracy: 0.7194 - val_loss: 0.5436 - val_accuracy: 0.7230\n",
      "Epoch 14/100\n",
      "8000/8000 [==============================] - 28s 3ms/step - loss: 0.5518 - accuracy: 0.7235 - val_loss: 0.5448 - val_accuracy: 0.7255\n",
      "Epoch 15/100\n",
      "8000/8000 [==============================] - 29s 4ms/step - loss: 0.5520 - accuracy: 0.7221 - val_loss: 0.5447 - val_accuracy: 0.7293\n",
      "Epoch 16/100\n",
      "8000/8000 [==============================] - 27s 3ms/step - loss: 0.5506 - accuracy: 0.7203 - val_loss: 0.5404 - val_accuracy: 0.7285\n",
      "Epoch 17/100\n",
      "8000/8000 [==============================] - 28s 3ms/step - loss: 0.5465 - accuracy: 0.7288 - val_loss: 0.5412 - val_accuracy: 0.7320\n",
      "Epoch 18/100\n",
      "8000/8000 [==============================] - 28s 4ms/step - loss: 0.5469 - accuracy: 0.7246 - val_loss: 0.5405 - val_accuracy: 0.7312\n",
      "Epoch 19/100\n",
      "8000/8000 [==============================] - 29s 4ms/step - loss: 0.5451 - accuracy: 0.7301 - val_loss: 0.5415 - val_accuracy: 0.7290\n",
      "Epoch 20/100\n",
      "8000/8000 [==============================] - 27s 3ms/step - loss: 0.5432 - accuracy: 0.7248 - val_loss: 0.5383 - val_accuracy: 0.7355\n",
      "Epoch 21/100\n",
      "8000/8000 [==============================] - 30s 4ms/step - loss: 0.5453 - accuracy: 0.7257 - val_loss: 0.5389 - val_accuracy: 0.7333\n",
      "Epoch 22/100\n",
      "8000/8000 [==============================] - 35s 4ms/step - loss: 0.5440 - accuracy: 0.7293 - val_loss: 0.5369 - val_accuracy: 0.7358\n",
      "Epoch 23/100\n",
      "8000/8000 [==============================] - 36s 4ms/step - loss: 0.5409 - accuracy: 0.7374 - val_loss: 0.5385 - val_accuracy: 0.7387\n",
      "Epoch 24/100\n",
      "8000/8000 [==============================] - 32s 4ms/step - loss: 0.5372 - accuracy: 0.7342 - val_loss: 0.5362 - val_accuracy: 0.7362\n",
      "Epoch 25/100\n",
      "8000/8000 [==============================] - 33s 4ms/step - loss: 0.5358 - accuracy: 0.7350 - val_loss: 0.5375 - val_accuracy: 0.7352\n",
      "Epoch 26/100\n",
      "8000/8000 [==============================] - 30s 4ms/step - loss: 0.5340 - accuracy: 0.7359 - val_loss: 0.5323 - val_accuracy: 0.7365\n",
      "Epoch 27/100\n",
      "8000/8000 [==============================] - 30s 4ms/step - loss: 0.5350 - accuracy: 0.7379 - val_loss: 0.5340 - val_accuracy: 0.7385\n",
      "Epoch 28/100\n",
      "8000/8000 [==============================] - 28s 4ms/step - loss: 0.5320 - accuracy: 0.7437 - val_loss: 0.5328 - val_accuracy: 0.7362\n",
      "Epoch 29/100\n",
      "8000/8000 [==============================] - 32s 4ms/step - loss: 0.5327 - accuracy: 0.7384 - val_loss: 0.5344 - val_accuracy: 0.7355\n",
      "Epoch 30/100\n",
      "8000/8000 [==============================] - 30s 4ms/step - loss: 0.5311 - accuracy: 0.7384 - val_loss: 0.5299 - val_accuracy: 0.7377\n",
      "Epoch 31/100\n",
      "8000/8000 [==============================] - 33s 4ms/step - loss: 0.5294 - accuracy: 0.7402 - val_loss: 0.5307 - val_accuracy: 0.7418\n",
      "Epoch 32/100\n",
      "8000/8000 [==============================] - 30s 4ms/step - loss: 0.5242 - accuracy: 0.7443 - val_loss: 0.5334 - val_accuracy: 0.7345\n",
      "Epoch 33/100\n",
      "8000/8000 [==============================] - 31s 4ms/step - loss: 0.5245 - accuracy: 0.7436 - val_loss: 0.5301 - val_accuracy: 0.7320\n",
      "Epoch 34/100\n",
      "8000/8000 [==============================] - 29s 4ms/step - loss: 0.5236 - accuracy: 0.7441 - val_loss: 0.5292 - val_accuracy: 0.7480\n",
      "Epoch 35/100\n",
      "8000/8000 [==============================] - 29s 4ms/step - loss: 0.5200 - accuracy: 0.7444 - val_loss: 0.5290 - val_accuracy: 0.7405\n",
      "Epoch 36/100\n",
      "8000/8000 [==============================] - 28s 3ms/step - loss: 0.5196 - accuracy: 0.7501 - val_loss: 0.5268 - val_accuracy: 0.7427\n",
      "Epoch 37/100\n",
      "8000/8000 [==============================] - 26s 3ms/step - loss: 0.5161 - accuracy: 0.7494 - val_loss: 0.5285 - val_accuracy: 0.7458\n",
      "Epoch 38/100\n",
      "8000/8000 [==============================] - 26s 3ms/step - loss: 0.5144 - accuracy: 0.7515 - val_loss: 0.5284 - val_accuracy: 0.7320\n",
      "Epoch 39/100\n",
      "8000/8000 [==============================] - 28s 4ms/step - loss: 0.5147 - accuracy: 0.7516 - val_loss: 0.5275 - val_accuracy: 0.7398\n",
      "Epoch 40/100\n",
      "8000/8000 [==============================] - 29s 4ms/step - loss: 0.5072 - accuracy: 0.7520 - val_loss: 0.5269 - val_accuracy: 0.7395\n",
      "\n",
      "Epoch 00040: ReduceLROnPlateau reducing learning rate to 0.00010000000474974513.\n",
      "Epoch 41/100\n",
      "8000/8000 [==============================] - 28s 4ms/step - loss: 0.5115 - accuracy: 0.7506 - val_loss: 0.5319 - val_accuracy: 0.7355\n",
      "Epoch 42/100\n",
      "8000/8000 [==============================] - 30s 4ms/step - loss: 0.5043 - accuracy: 0.7575 - val_loss: 0.5256 - val_accuracy: 0.7455\n",
      "Epoch 43/100\n",
      "8000/8000 [==============================] - 32s 4ms/step - loss: 0.5024 - accuracy: 0.7591 - val_loss: 0.5284 - val_accuracy: 0.7408\n",
      "Epoch 44/100\n",
      "8000/8000 [==============================] - 31s 4ms/step - loss: 0.5026 - accuracy: 0.7591 - val_loss: 0.5275 - val_accuracy: 0.7450\n",
      "Epoch 45/100\n",
      "8000/8000 [==============================] - 28s 4ms/step - loss: 0.5056 - accuracy: 0.7573 - val_loss: 0.5286 - val_accuracy: 0.7400\n",
      "Epoch 46/100\n",
      "8000/8000 [==============================] - 34s 4ms/step - loss: 0.4985 - accuracy: 0.7621 - val_loss: 0.5296 - val_accuracy: 0.7395\n",
      "\n",
      "Epoch 00046: ReduceLROnPlateau reducing learning rate to 1.0000000474974514e-05.\n",
      "Epoch 47/100\n",
      "8000/8000 [==============================] - 32s 4ms/step - loss: 0.4986 - accuracy: 0.7631 - val_loss: 0.5293 - val_accuracy: 0.7395\n",
      "Epoch 48/100\n",
      "8000/8000 [==============================] - 29s 4ms/step - loss: 0.4975 - accuracy: 0.7604 - val_loss: 0.5290 - val_accuracy: 0.7410\n",
      "Epoch 49/100\n",
      "8000/8000 [==============================] - 29s 4ms/step - loss: 0.4980 - accuracy: 0.7621 - val_loss: 0.5291 - val_accuracy: 0.7415\n",
      "Epoch 50/100\n",
      "8000/8000 [==============================] - 27s 3ms/step - loss: 0.4954 - accuracy: 0.7648 - val_loss: 0.5293 - val_accuracy: 0.7410\n",
      "\n",
      "Epoch 00050: ReduceLROnPlateau reducing learning rate to 1.0000000656873453e-06.\n",
      "Epoch 51/100\n",
      "8000/8000 [==============================] - 28s 4ms/step - loss: 0.4957 - accuracy: 0.7598 - val_loss: 0.5293 - val_accuracy: 0.7410\n",
      "Epoch 52/100\n",
      "8000/8000 [==============================] - 27s 3ms/step - loss: 0.5019 - accuracy: 0.7580 - val_loss: 0.5293 - val_accuracy: 0.7410\n",
      "Epoch 53/100\n",
      "8000/8000 [==============================] - 27s 3ms/step - loss: 0.5012 - accuracy: 0.7597 - val_loss: 0.5293 - val_accuracy: 0.7412\n",
      "Epoch 54/100\n",
      "8000/8000 [==============================] - 27s 3ms/step - loss: 0.5021 - accuracy: 0.7601 - val_loss: 0.5293 - val_accuracy: 0.7415\n"
     ]
    },
    {
     "name": "stdout",
     "output_type": "stream",
     "text": [
      "\n",
      "Epoch 00054: ReduceLROnPlateau reducing learning rate to 1.0000001111620805e-07.\n",
      "Epoch 55/100\n",
      "8000/8000 [==============================] - 27s 3ms/step - loss: 0.4973 - accuracy: 0.7634 - val_loss: 0.5293 - val_accuracy: 0.7415\n",
      "Epoch 56/100\n",
      "8000/8000 [==============================] - 28s 3ms/step - loss: 0.4988 - accuracy: 0.7623 - val_loss: 0.5293 - val_accuracy: 0.7415\n",
      "Epoch 57/100\n",
      "8000/8000 [==============================] - 27s 3ms/step - loss: 0.4967 - accuracy: 0.7634 - val_loss: 0.5293 - val_accuracy: 0.7415\n",
      "Restoring model weights from the end of the best epoch\n",
      "Epoch 00057: early stopping\n"
     ]
    }
   ],
   "source": [
    "history=rnn.fit(\n",
    "    [X_sess_train,X_prevtrack_train, X_track_train, x3_train], [Y_train], validation_data=([X_sess_test,X_prevtrack_test, X_track_test, x3_test], [Y_test]), batch_size=848,epochs=100, callbacks=callbacks,shuffle=False)\n"
   ]
  },
  {
   "cell_type": "code",
   "execution_count": 142,
   "metadata": {
    "scrolled": true
   },
   "outputs": [
    {
     "name": "stdout",
     "output_type": "stream",
     "text": [
      "  Classification Report:\n",
      "               precision    recall  f1-score   support\n",
      "\n",
      "           0       0.77      0.79      0.78      1136\n",
      "           1       0.72      0.68      0.70       864\n",
      "\n",
      "    accuracy                           0.75      2000\n",
      "   macro avg       0.74      0.74      0.74      2000\n",
      "weighted avg       0.74      0.75      0.74      2000\n",
      " \n",
      "\n"
     ]
    }
   ],
   "source": [
    "from sklearn.metrics import classification_report,confusion_matrix\n",
    "Y_pred = rnn.predict([X_sess_test,X_prevtrack_test, X_track_test, x3_test])\n",
    "y_pred = np.array([np.argmax(pred) for pred in Y_pred])\n",
    "print('  Classification Report:\\n',classification_report(Y_test2,y_pred),'\\n')"
   ]
  },
  {
   "cell_type": "markdown",
   "metadata": {},
   "source": [
    "# Model Summaries"
   ]
  },
  {
   "cell_type": "code",
   "execution_count": 143,
   "metadata": {
    "scrolled": true
   },
   "outputs": [
    {
     "name": "stdout",
     "output_type": "stream",
     "text": [
      "Model: \"model_1\"\n",
      "__________________________________________________________________________________________________\n",
      "Layer (type)                    Output Shape         Param #     Connected to                     \n",
      "==================================================================================================\n",
      "session (InputLayer)            (None, 19, 35)       0                                            \n",
      "__________________________________________________________________________________________________\n",
      "prev_skips (InputLayer)         (None, 19, 1)        0                                            \n",
      "__________________________________________________________________________________________________\n",
      "prev_track (InputLayer)         (None, 19, 31)       0                                            \n",
      "__________________________________________________________________________________________________\n",
      "lstm_1 (LSTM)                   (None, 19, 128)      83968       session[0][0]                    \n",
      "__________________________________________________________________________________________________\n",
      "lstm_5 (LSTM)                   (None, 19, 264)      280896      prev_skips[0][0]                 \n",
      "__________________________________________________________________________________________________\n",
      "track (InputLayer)              (None, 31)           0                                            \n",
      "__________________________________________________________________________________________________\n",
      "lstm_3 (LSTM)                   (None, 19, 128)      81920       prev_track[0][0]                 \n",
      "__________________________________________________________________________________________________\n",
      "dropout_1 (Dropout)             (None, 19, 128)      0           lstm_1[0][0]                     \n",
      "__________________________________________________________________________________________________\n",
      "dropout_7 (Dropout)             (None, 19, 264)      0           lstm_5[0][0]                     \n",
      "__________________________________________________________________________________________________\n",
      "dense_1 (Dense)                 (None, 64)           2048        track[0][0]                      \n",
      "__________________________________________________________________________________________________\n",
      "dropout_3 (Dropout)             (None, 19, 128)      0           lstm_3[0][0]                     \n",
      "__________________________________________________________________________________________________\n",
      "lstm_2 (LSTM)                   (None, 128)          131584      dropout_1[0][0]                  \n",
      "__________________________________________________________________________________________________\n",
      "lstm_6 (LSTM)                   (None, 264)          558624      dropout_7[0][0]                  \n",
      "__________________________________________________________________________________________________\n",
      "dropout_5 (Dropout)             (None, 64)           0           dense_1[0][0]                    \n",
      "__________________________________________________________________________________________________\n",
      "lstm_4 (LSTM)                   (None, 128)          131584      dropout_3[0][0]                  \n",
      "__________________________________________________________________________________________________\n",
      "dropout_2 (Dropout)             (None, 128)          0           lstm_2[0][0]                     \n",
      "__________________________________________________________________________________________________\n",
      "dropout_8 (Dropout)             (None, 264)          0           lstm_6[0][0]                     \n",
      "__________________________________________________________________________________________________\n",
      "dense_2 (Dense)                 (None, 64)           4160        dropout_5[0][0]                  \n",
      "__________________________________________________________________________________________________\n",
      "dropout_4 (Dropout)             (None, 128)          0           lstm_4[0][0]                     \n",
      "__________________________________________________________________________________________________\n",
      "concatenate_2 (Concatenate)     (None, 392)          0           dropout_2[0][0]                  \n",
      "                                                                 dropout_8[0][0]                  \n",
      "__________________________________________________________________________________________________\n",
      "concatenate_1 (Concatenate)     (None, 192)          0           dense_2[0][0]                    \n",
      "                                                                 dropout_4[0][0]                  \n",
      "__________________________________________________________________________________________________\n",
      "dropout_9 (Dropout)             (None, 392)          0           concatenate_2[0][0]              \n",
      "__________________________________________________________________________________________________\n",
      "dropout_6 (Dropout)             (None, 192)          0           concatenate_1[0][0]              \n",
      "__________________________________________________________________________________________________\n",
      "concatenate_3 (Concatenate)     (None, 584)          0           dropout_9[0][0]                  \n",
      "                                                                 dropout_6[0][0]                  \n",
      "__________________________________________________________________________________________________\n",
      "dropout_10 (Dropout)            (None, 584)          0           concatenate_3[0][0]              \n",
      "__________________________________________________________________________________________________\n",
      "dense_3 (Dense)                 (None, 2)            1170        dropout_10[0][0]                 \n",
      "==================================================================================================\n",
      "Total params: 1,275,954\n",
      "Trainable params: 1,275,954\n",
      "Non-trainable params: 0\n",
      "__________________________________________________________________________________________________\n"
     ]
    }
   ],
   "source": [
    "rnn.summary()"
   ]
  },
  {
   "cell_type": "code",
   "execution_count": 145,
   "metadata": {},
   "outputs": [
    {
     "name": "stdout",
     "output_type": "stream",
     "text": [
      "dict_keys(['val_loss', 'val_accuracy', 'loss', 'accuracy', 'lr'])\n"
     ]
    },
    {
     "data": {
      "image/png": "[encoded data removed]",
      "text/plain": [
       "<Figure size 432x288 with 1 Axes>"
      ]
     },
     "metadata": {
      "needs_background": "light"
     },
     "output_type": "display_data"
    },
    {
     "data": {
      "image/png": "[encoded data removed]",
      "text/plain": [
       "<Figure size 432x288 with 1 Axes>"
      ]
     },
     "metadata": {
      "needs_background": "light"
     },
     "output_type": "display_data"
    }
   ],
   "source": [
    "# list all data in history\n",
    "print(history.history.keys())\n",
    "# summarize history for accuracy\n",
    "plt.plot(history.history['accuracy'])\n",
    "plt.plot(history.history['val_accuracy'])\n",
    "plt.title('model accuracy')\n",
    "plt.ylabel('accuracy')\n",
    "plt.xlabel('epoch')\n",
    "plt.legend(['train', 'test'], loc='upper left')\n",
    "plt.show()\n",
    "# summarize history for loss\n",
    "plt.plot(history.history['loss'])\n",
    "plt.plot(history.history['val_loss'])\n",
    "plt.title('model loss')\n",
    "plt.ylabel('loss')\n",
    "plt.xlabel('epoch')\n",
    "plt.legend(['train', 'test'], loc='upper left')\n",
    "plt.show()"
   ]
  },
  {
   "cell_type": "code",
   "execution_count": 156,
   "metadata": {},
   "outputs": [
    {
     "data": {
      "image/png": "[encoded data removed]",
      "text/plain": [
       "<IPython.core.display.Image object>"
      ]
     },
     "execution_count": 156,
     "metadata": {},
     "output_type": "execute_result"
    }
   ],
   "source": [
    "from keras.utils import plot_model\n",
    "\n",
    "plot_model(rnn, to_file='C:\\CSV\\model5.png', show_layer_names=True, show_shapes=True)\n"
   ]
  },
  {
   "cell_type": "code",
   "execution_count": null,
   "metadata": {},
   "outputs": [],
   "source": []
  }
 ],
 "metadata": {
  "kernelspec": {
   "display_name": "Python 3.7 (tensorflow)",
   "language": "python",
   "name": "tensorflow"
  },
  "language_info": {
   "codemirror_mode": {
    "name": "ipython",
    "version": 3
   },
   "file_extension": ".py",
   "mimetype": "text/x-python",
   "name": "python",
   "nbconvert_exporter": "python",
   "pygments_lexer": "ipython3",
   "version": "3.7.6"
  },
  "toc": {
   "base_numbering": 1,
   "nav_menu": {},
   "number_sections": true,
   "sideBar": true,
   "skip_h1_title": false,
   "title_cell": "Table of Contents",
   "title_sidebar": "Contents",
   "toc_cell": true,
   "toc_position": {
    "height": "calc(100% - 180px)",
    "left": "10px",
    "top": "150px",
    "width": "165px"
   },
   "toc_section_display": true,
   "toc_window_display": true
  }
 },
 "nbformat": 4,
 "nbformat_minor": 2
}
